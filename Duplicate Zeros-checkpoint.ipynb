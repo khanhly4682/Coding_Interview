{
 "cells": [
  {
   "cell_type": "markdown",
   "metadata": {},
   "source": [
    "## 1089. Duplicate Zeros\n",
    "[Easy]\n",
    "\n",
    "Given a fixed length array arr of integers, duplicate each occurrence of zero, shifting the remaining elements to the right.\n",
    "\n",
    "Note that elements beyond the length of the original array are not written.\n",
    "\n",
    "Do the above modifications to the input array in place, do not return anything from your function.\n",
    "\n",
    " \n",
    "\n",
    "#### Example 1:\n",
    "\n",
    "Input: [1,0,2,3,0,4,5,0]<br>\n",
    "Output: null<br>\n",
    "Explanation: After calling your function, the input array is modified to: <br>[1,0,0,2,3,0,0,4]\n",
    "\n",
    "#### Example 2:\n",
    "\n",
    "Input: [1,2,3]<br>\n",
    "Output: null<br>\n",
    "Explanation: After calling your function, the input array is modified to: <br>[1,2,3]\n",
    " \n",
    "\n",
    "Note:\n",
    "\n",
    "1 <= arr.length <= 10000<br>\n",
    "0 <= arr[i] <= 9"
   ]
  },
  {
   "cell_type": "code",
   "execution_count": 4,
   "metadata": {},
   "outputs": [
    {
     "name": "stdout",
     "output_type": "stream",
     "text": [
      "[1, 0, 0, 2, 0, 0, 3]\n"
     ]
    }
   ],
   "source": [
    "def duplicate_zeros(arr):\n",
    "    n = len(arr)\n",
    "    i=0\n",
    "    while i < n:\n",
    "        if arr[i]==0:\n",
    "            arr.insert(i,0)\n",
    "            arr.pop()\n",
    "            i+=2\n",
    "        else:\n",
    "            i+=1\n",
    "    print(arr)\n",
    "\n",
    "duplicate_zeros([1,0,2,0,3,4,0])"
   ]
  },
  {
   "cell_type": "code",
   "execution_count": null,
   "metadata": {},
   "outputs": [],
   "source": []
  }
 ],
 "metadata": {
  "kernelspec": {
   "display_name": "Python 3",
   "language": "python",
   "name": "python3"
  },
  "language_info": {
   "codemirror_mode": {
    "name": "ipython",
    "version": 3
   },
   "file_extension": ".py",
   "mimetype": "text/x-python",
   "name": "python",
   "nbconvert_exporter": "python",
   "pygments_lexer": "ipython3",
   "version": "3.7.3"
  }
 },
 "nbformat": 4,
 "nbformat_minor": 2
}
